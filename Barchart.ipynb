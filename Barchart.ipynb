{
  "nbformat": 4,
  "nbformat_minor": 0,
  "metadata": {
    "colab": {
      "provenance": [],
      "authorship_tag": "ABX9TyPt4mxwDXEYgjBY51lGnpbn"
    },
    "kernelspec": {
      "name": "python3",
      "display_name": "Python 3"
    },
    "language_info": {
      "name": "python"
    },
    "widgets": {
      "application/vnd.jupyter.widget-state+json": {
        "9060211cb17145c5bc6e21950e4a62aa": {
          "model_module": "@jupyter-widgets/controls",
          "model_name": "SelectMultipleModel",
          "model_module_version": "1.5.0",
          "state": {
            "_dom_classes": [],
            "_model_module": "@jupyter-widgets/controls",
            "_model_module_version": "1.5.0",
            "_model_name": "SelectMultipleModel",
            "_options_labels": [
              "Y1",
              "Y2"
            ],
            "_view_count": null,
            "_view_module": "@jupyter-widgets/controls",
            "_view_module_version": "1.5.0",
            "_view_name": "SelectMultipleView",
            "description": "Experiments",
            "description_tooltip": null,
            "disabled": false,
            "index": [
              0,
              1
            ],
            "layout": "IPY_MODEL_92bfa7c40b504e888f4d28d974349723",
            "rows": 5,
            "style": "IPY_MODEL_4e1183d943e7414e9cb1f1ac5676eef8"
          }
        },
        "92bfa7c40b504e888f4d28d974349723": {
          "model_module": "@jupyter-widgets/base",
          "model_name": "LayoutModel",
          "model_module_version": "1.2.0",
          "state": {
            "_model_module": "@jupyter-widgets/base",
            "_model_module_version": "1.2.0",
            "_model_name": "LayoutModel",
            "_view_count": null,
            "_view_module": "@jupyter-widgets/base",
            "_view_module_version": "1.2.0",
            "_view_name": "LayoutView",
            "align_content": null,
            "align_items": null,
            "align_self": null,
            "border": null,
            "bottom": null,
            "display": null,
            "flex": null,
            "flex_flow": null,
            "grid_area": null,
            "grid_auto_columns": null,
            "grid_auto_flow": null,
            "grid_auto_rows": null,
            "grid_column": null,
            "grid_gap": null,
            "grid_row": null,
            "grid_template_areas": null,
            "grid_template_columns": null,
            "grid_template_rows": null,
            "height": null,
            "justify_content": null,
            "justify_items": null,
            "left": null,
            "margin": null,
            "max_height": null,
            "max_width": null,
            "min_height": null,
            "min_width": null,
            "object_fit": null,
            "object_position": null,
            "order": null,
            "overflow": null,
            "overflow_x": null,
            "overflow_y": null,
            "padding": null,
            "right": null,
            "top": null,
            "visibility": null,
            "width": null
          }
        },
        "4e1183d943e7414e9cb1f1ac5676eef8": {
          "model_module": "@jupyter-widgets/controls",
          "model_name": "DescriptionStyleModel",
          "model_module_version": "1.5.0",
          "state": {
            "_model_module": "@jupyter-widgets/controls",
            "_model_module_version": "1.5.0",
            "_model_name": "DescriptionStyleModel",
            "_view_count": null,
            "_view_module": "@jupyter-widgets/base",
            "_view_module_version": "1.2.0",
            "_view_name": "StyleView",
            "description_width": ""
          }
        },
        "a9aa2843bfe447928b34aac58bdfff58": {
          "model_module": "@jupyter-widgets/controls",
          "model_name": "TextModel",
          "model_module_version": "1.5.0",
          "state": {
            "_dom_classes": [],
            "_model_module": "@jupyter-widgets/controls",
            "_model_module_version": "1.5.0",
            "_model_name": "TextModel",
            "_view_count": null,
            "_view_module": "@jupyter-widgets/controls",
            "_view_module_version": "1.5.0",
            "_view_name": "TextView",
            "continuous_update": true,
            "description": "Chart Title:",
            "description_tooltip": null,
            "disabled": false,
            "layout": "IPY_MODEL_c5ea9e1362e34303984b9e934d31f094",
            "placeholder": "​",
            "style": "IPY_MODEL_8687839c92494b4a99469d1cfd4379f3",
            "value": ""
          }
        },
        "c5ea9e1362e34303984b9e934d31f094": {
          "model_module": "@jupyter-widgets/base",
          "model_name": "LayoutModel",
          "model_module_version": "1.2.0",
          "state": {
            "_model_module": "@jupyter-widgets/base",
            "_model_module_version": "1.2.0",
            "_model_name": "LayoutModel",
            "_view_count": null,
            "_view_module": "@jupyter-widgets/base",
            "_view_module_version": "1.2.0",
            "_view_name": "LayoutView",
            "align_content": null,
            "align_items": null,
            "align_self": null,
            "border": null,
            "bottom": null,
            "display": null,
            "flex": null,
            "flex_flow": null,
            "grid_area": null,
            "grid_auto_columns": null,
            "grid_auto_flow": null,
            "grid_auto_rows": null,
            "grid_column": null,
            "grid_gap": null,
            "grid_row": null,
            "grid_template_areas": null,
            "grid_template_columns": null,
            "grid_template_rows": null,
            "height": null,
            "justify_content": null,
            "justify_items": null,
            "left": null,
            "margin": null,
            "max_height": null,
            "max_width": null,
            "min_height": null,
            "min_width": null,
            "object_fit": null,
            "object_position": null,
            "order": null,
            "overflow": null,
            "overflow_x": null,
            "overflow_y": null,
            "padding": null,
            "right": null,
            "top": null,
            "visibility": null,
            "width": null
          }
        },
        "8687839c92494b4a99469d1cfd4379f3": {
          "model_module": "@jupyter-widgets/controls",
          "model_name": "DescriptionStyleModel",
          "model_module_version": "1.5.0",
          "state": {
            "_model_module": "@jupyter-widgets/controls",
            "_model_module_version": "1.5.0",
            "_model_name": "DescriptionStyleModel",
            "_view_count": null,
            "_view_module": "@jupyter-widgets/base",
            "_view_module_version": "1.2.0",
            "_view_name": "StyleView",
            "description_width": ""
          }
        },
        "5a71af43999640eb8a5c5e2e2db33aba": {
          "model_module": "@jupyter-widgets/controls",
          "model_name": "TextModel",
          "model_module_version": "1.5.0",
          "state": {
            "_dom_classes": [],
            "_model_module": "@jupyter-widgets/controls",
            "_model_module_version": "1.5.0",
            "_model_name": "TextModel",
            "_view_count": null,
            "_view_module": "@jupyter-widgets/controls",
            "_view_module_version": "1.5.0",
            "_view_name": "TextView",
            "continuous_update": true,
            "description": "Legend for Y1:",
            "description_tooltip": null,
            "disabled": false,
            "layout": "IPY_MODEL_2de9341d98af41c48ebb676ba3bd2bdc",
            "placeholder": "​",
            "style": "IPY_MODEL_0bed10bfcc024dce8d89bb58a1e52eae",
            "value": "Experiment-2"
          }
        },
        "2de9341d98af41c48ebb676ba3bd2bdc": {
          "model_module": "@jupyter-widgets/base",
          "model_name": "LayoutModel",
          "model_module_version": "1.2.0",
          "state": {
            "_model_module": "@jupyter-widgets/base",
            "_model_module_version": "1.2.0",
            "_model_name": "LayoutModel",
            "_view_count": null,
            "_view_module": "@jupyter-widgets/base",
            "_view_module_version": "1.2.0",
            "_view_name": "LayoutView",
            "align_content": null,
            "align_items": null,
            "align_self": null,
            "border": null,
            "bottom": null,
            "display": null,
            "flex": null,
            "flex_flow": null,
            "grid_area": null,
            "grid_auto_columns": null,
            "grid_auto_flow": null,
            "grid_auto_rows": null,
            "grid_column": null,
            "grid_gap": null,
            "grid_row": null,
            "grid_template_areas": null,
            "grid_template_columns": null,
            "grid_template_rows": null,
            "height": null,
            "justify_content": null,
            "justify_items": null,
            "left": null,
            "margin": null,
            "max_height": null,
            "max_width": null,
            "min_height": null,
            "min_width": null,
            "object_fit": null,
            "object_position": null,
            "order": null,
            "overflow": null,
            "overflow_x": null,
            "overflow_y": null,
            "padding": null,
            "right": null,
            "top": null,
            "visibility": null,
            "width": null
          }
        },
        "0bed10bfcc024dce8d89bb58a1e52eae": {
          "model_module": "@jupyter-widgets/controls",
          "model_name": "DescriptionStyleModel",
          "model_module_version": "1.5.0",
          "state": {
            "_model_module": "@jupyter-widgets/controls",
            "_model_module_version": "1.5.0",
            "_model_name": "DescriptionStyleModel",
            "_view_count": null,
            "_view_module": "@jupyter-widgets/base",
            "_view_module_version": "1.2.0",
            "_view_name": "StyleView",
            "description_width": ""
          }
        },
        "cba51b7cbb964e4eaad4d08a5a064292": {
          "model_module": "@jupyter-widgets/controls",
          "model_name": "TextModel",
          "model_module_version": "1.5.0",
          "state": {
            "_dom_classes": [],
            "_model_module": "@jupyter-widgets/controls",
            "_model_module_version": "1.5.0",
            "_model_name": "TextModel",
            "_view_count": null,
            "_view_module": "@jupyter-widgets/controls",
            "_view_module_version": "1.5.0",
            "_view_name": "TextView",
            "continuous_update": true,
            "description": "Legend for Y2:",
            "description_tooltip": null,
            "disabled": false,
            "layout": "IPY_MODEL_890f031d9def48078b3c0570ac354410",
            "placeholder": "​",
            "style": "IPY_MODEL_d4bc3f261e5449f192d4b4e8ed4fd496",
            "value": "Experiment-3"
          }
        },
        "890f031d9def48078b3c0570ac354410": {
          "model_module": "@jupyter-widgets/base",
          "model_name": "LayoutModel",
          "model_module_version": "1.2.0",
          "state": {
            "_model_module": "@jupyter-widgets/base",
            "_model_module_version": "1.2.0",
            "_model_name": "LayoutModel",
            "_view_count": null,
            "_view_module": "@jupyter-widgets/base",
            "_view_module_version": "1.2.0",
            "_view_name": "LayoutView",
            "align_content": null,
            "align_items": null,
            "align_self": null,
            "border": null,
            "bottom": null,
            "display": null,
            "flex": null,
            "flex_flow": null,
            "grid_area": null,
            "grid_auto_columns": null,
            "grid_auto_flow": null,
            "grid_auto_rows": null,
            "grid_column": null,
            "grid_gap": null,
            "grid_row": null,
            "grid_template_areas": null,
            "grid_template_columns": null,
            "grid_template_rows": null,
            "height": null,
            "justify_content": null,
            "justify_items": null,
            "left": null,
            "margin": null,
            "max_height": null,
            "max_width": null,
            "min_height": null,
            "min_width": null,
            "object_fit": null,
            "object_position": null,
            "order": null,
            "overflow": null,
            "overflow_x": null,
            "overflow_y": null,
            "padding": null,
            "right": null,
            "top": null,
            "visibility": null,
            "width": null
          }
        },
        "d4bc3f261e5449f192d4b4e8ed4fd496": {
          "model_module": "@jupyter-widgets/controls",
          "model_name": "DescriptionStyleModel",
          "model_module_version": "1.5.0",
          "state": {
            "_model_module": "@jupyter-widgets/controls",
            "_model_module_version": "1.5.0",
            "_model_name": "DescriptionStyleModel",
            "_view_count": null,
            "_view_module": "@jupyter-widgets/base",
            "_view_module_version": "1.2.0",
            "_view_name": "StyleView",
            "description_width": ""
          }
        }
      }
    }
  },
  "cells": [
    {
      "cell_type": "markdown",
      "source": [
        "# Step 1: Upload the CSV File\n",
        "First, upload your CSV file in Google Colab using files.upload(). This allows you to load the file into a DataFrame."
      ],
      "metadata": {
        "id": "_U0j_REMw6Ab"
      }
    },
    {
      "cell_type": "code",
      "source": [
        "import pandas as pd\n",
        "\n",
        "## This imports the Pandas library, which is essential for data manipulation and analysis in Python.\n",
        "## Here, `pd` is an alias that allows for shorthand references to Pandas functions.\n",
        "\n",
        "\n",
        "from google.colab import files\n",
        "\n",
        "## This line imports the `files` module from `google.colab`, which provides tools for handling\n",
        "## file operations in Google Colab, such as uploading files.\n",
        "\n",
        "\n",
        "\n",
        "# Upload the CSV file\n",
        "uploaded = files.upload()\n",
        "\n",
        "## This initiates a file upload dialog in Google Colab.\n",
        "## When a user uploads a file, it is stored in the uploaded dictionary, where the\n",
        "## keys are the file names and the values are the file contents in bytes.\n",
        "\n",
        "\n",
        "\n",
        "# Load the uploaded file into a DataFrame\n",
        "file_name = list(uploaded.keys())[0]  # Get the uploaded file name\n",
        "data = pd.read_csv(file_name)\n",
        "\n",
        "## The `file_name` line retrieves the file name of the uploaded file from the dictionary.\n",
        "## Then, `pd.read_csv(file_name)` reads the CSV file into a Pandas DataFrame called `data`, which is a\n",
        "## table-like data structure where each column represents a variable, and each row represents an observation.\n",
        "\n",
        "\n",
        "\n",
        "print(\"Data Loaded Successfully\")\n",
        "data.head()\n",
        "\n",
        "## `print(\"Data Loaded Successfully\")` confirms that the file has been loaded without errors.\n",
        "## `data.head()` displays the first few rows of the DataFrame, allowing you or any future user to check if the data has loaded correctly.\n"
      ],
      "metadata": {
        "id": "DAdNr9Dcw7Pv"
      },
      "execution_count": null,
      "outputs": []
    },
    {
      "cell_type": "markdown",
      "source": [
        "# Step 2: Data Preparation\n",
        "\n",
        "Now, let's preprocess the data:\n",
        "Convert the % column to numeric and scale it by 100. Also, Define categories for percentage ranges."
      ],
      "metadata": {
        "id": "tfU9xiT0xI6F"
      }
    },
    {
      "cell_type": "code",
      "source": [
        "# Calculate the average RLN_count for each Line_ID and Experiment, ignoring missing values\n",
        "data = data.groupby(['Line_ID', 'Experiment'])['%'].mean().reset_index()\n",
        "\n",
        "# Display the result\n",
        "print(average_rln_count)\n"
      ],
      "metadata": {
        "colab": {
          "base_uri": "https://localhost:8080/"
        },
        "id": "1A79E9N0-Sm2",
        "outputId": "62174048-6d49-4383-8be6-f9baf9d56a37"
      },
      "execution_count": null,
      "outputs": [
        {
          "output_type": "stream",
          "name": "stdout",
          "text": [
            "              Line_ID Experiment         %\n",
            "0           AUS28451R         Y1  0.089363\n",
            "1           AUS28451R         Y2  0.082444\n",
            "2              Alpowa         Y1  1.000000\n",
            "3              Alpowa         Y2  1.000000\n",
            "4              RIL-10         Y1  0.586393\n",
            "..                ...        ...       ...\n",
            "297     UnplantedInoc         Y2  0.000000\n",
            "298  UnplantedNonInoc         Y1  0.000000\n",
            "299  UnplantedNonInoc         Y2  0.000000\n",
            "300      VillaxStJose         Y1  0.291307\n",
            "301      VillaxStJose         Y2  0.307764\n",
            "\n",
            "[302 rows x 3 columns]\n"
          ]
        }
      ]
    },
    {
      "cell_type": "code",
      "source": [
        "# Check basic statistics of the % column to understand the distribution\n",
        "print(data['%'].describe())"
      ],
      "metadata": {
        "colab": {
          "base_uri": "https://localhost:8080/"
        },
        "id": "Br2btC-jzpyS",
        "outputId": "19267b41-7ca8-4d1d-d7df-5a9aa6da23f6"
      },
      "execution_count": null,
      "outputs": [
        {
          "output_type": "stream",
          "name": "stdout",
          "text": [
            "count    221.000000\n",
            "mean      44.782061\n",
            "std       27.457488\n",
            "min        0.000000\n",
            "25%       21.652268\n",
            "50%       45.626350\n",
            "75%       62.336431\n",
            "max      196.746115\n",
            "Name: %, dtype: float64\n"
          ]
        }
      ]
    },
    {
      "cell_type": "code",
      "source": [
        "# Step 2: Data Preparation\n",
        "import numpy as np\n",
        "\n",
        "# Convert the '%' column to numeric, treating non-numeric values (including empty cells) as NaN\n",
        "data['%'] = pd.to_numeric(data['%'], errors='coerce') * 100\n",
        "\n",
        "# Define percentage bins and labels\n",
        "#bins = [0, 25, 50, 75, np.inf]\n",
        "# Define bins based on actual data distribution (quartiles or custom ranges)\n",
        "bins = [0, data['%'].quantile(0.125), data['%'].quantile(0.25), data['%'].quantile(0.375),\n",
        "        data['%'].quantile(0.5), data['%'].quantile(0.625), data['%'].quantile(0.75), np.inf]\n",
        "labels = ['<12.5%', '12.5-25%', '25-37.5%', '37.5-50%', '50-62.5%', '62.5-75%', '>75%']\n",
        "\n",
        "# Create a new column categorizing the '%' values into these bins\n",
        "data['Percentage_Category'] = pd.cut(data['%'], bins=bins, labels=labels, include_lowest=True)\n",
        "\n"
      ],
      "metadata": {
        "id": "fIUXALW4xOOf"
      },
      "execution_count": null,
      "outputs": []
    },
    {
      "cell_type": "code",
      "source": [
        "# Check the distribution of the categories\n",
        "print(data['Percentage_Category'].value_counts())"
      ],
      "metadata": {
        "colab": {
          "base_uri": "https://localhost:8080/"
        },
        "id": "_6aO9sey0pmh",
        "outputId": "667670b5-ff43-4d87-b538-03d640f5cf19"
      },
      "execution_count": null,
      "outputs": [
        {
          "output_type": "stream",
          "name": "stdout",
          "text": [
            "Percentage_Category\n",
            ">75%        55\n",
            "<12.5%      28\n",
            "12.5-25%    28\n",
            "37.5-50%    28\n",
            "62.5-75%    28\n",
            "25-37.5%    27\n",
            "50-62.5%    27\n",
            "Name: count, dtype: int64\n"
          ]
        }
      ]
    },
    {
      "cell_type": "markdown",
      "source": [
        "# Step 3: Set Up Interactive Widgets\n",
        "\n",
        "Using `ipywidgets`, we can create controls for selecting experiments and customizing the chart title."
      ],
      "metadata": {
        "id": "D7rGvBV9xUsz"
      }
    },
    {
      "cell_type": "code",
      "source": [
        "import ipywidgets as widgets\n",
        "from IPython.display import display\n",
        "\n",
        "# Create dropdown widget for selecting experiment categories\n",
        "experiment_options = data['Experiment'].unique().tolist()\n",
        "experiment_select = widgets.SelectMultiple(\n",
        "    options=experiment_options,\n",
        "    value=experiment_options,  # Default to all experiments selected\n",
        "    description='Experiments'\n",
        ")\n",
        "\n",
        "# Widget for customizing the chart title\n",
        "title_widget = widgets.Text(value=\"\", description=\"Chart Title:\")\n",
        "\n",
        "\n",
        "# Widgets for editing legend names\n",
        "legend_label_1 = widgets.Text(value=\"Experiment-2\", description=\"Legend for Y1:\")\n",
        "legend_label_2 = widgets.Text(value=\"Experiment-3\", description=\"Legend for Y2:\")\n",
        "\n",
        "# Display the widgets\n",
        "display(experiment_select, title_widget, legend_label_1, legend_label_2)\n",
        "\n"
      ],
      "metadata": {
        "colab": {
          "base_uri": "https://localhost:8080/",
          "height": 221,
          "referenced_widgets": [
            "9060211cb17145c5bc6e21950e4a62aa",
            "92bfa7c40b504e888f4d28d974349723",
            "4e1183d943e7414e9cb1f1ac5676eef8",
            "a9aa2843bfe447928b34aac58bdfff58",
            "c5ea9e1362e34303984b9e934d31f094",
            "8687839c92494b4a99469d1cfd4379f3",
            "5a71af43999640eb8a5c5e2e2db33aba",
            "2de9341d98af41c48ebb676ba3bd2bdc",
            "0bed10bfcc024dce8d89bb58a1e52eae",
            "cba51b7cbb964e4eaad4d08a5a064292",
            "890f031d9def48078b3c0570ac354410",
            "d4bc3f261e5449f192d4b4e8ed4fd496"
          ]
        },
        "id": "Zbnxgme9xXxZ",
        "outputId": "77178371-46bb-4b7d-fb7b-17c7ed0ffd16"
      },
      "execution_count": null,
      "outputs": [
        {
          "output_type": "display_data",
          "data": {
            "text/plain": [
              "SelectMultiple(description='Experiments', index=(0, 1), options=('Y1', 'Y2'), value=('Y1', 'Y2'))"
            ],
            "application/vnd.jupyter.widget-view+json": {
              "version_major": 2,
              "version_minor": 0,
              "model_id": "9060211cb17145c5bc6e21950e4a62aa"
            }
          },
          "metadata": {}
        },
        {
          "output_type": "display_data",
          "data": {
            "text/plain": [
              "Text(value='', description='Chart Title:')"
            ],
            "application/vnd.jupyter.widget-view+json": {
              "version_major": 2,
              "version_minor": 0,
              "model_id": "a9aa2843bfe447928b34aac58bdfff58"
            }
          },
          "metadata": {}
        },
        {
          "output_type": "display_data",
          "data": {
            "text/plain": [
              "Text(value='Experiment-2', description='Legend for Y1:')"
            ],
            "application/vnd.jupyter.widget-view+json": {
              "version_major": 2,
              "version_minor": 0,
              "model_id": "5a71af43999640eb8a5c5e2e2db33aba"
            }
          },
          "metadata": {}
        },
        {
          "output_type": "display_data",
          "data": {
            "text/plain": [
              "Text(value='Experiment-3', description='Legend for Y2:')"
            ],
            "application/vnd.jupyter.widget-view+json": {
              "version_major": 2,
              "version_minor": 0,
              "model_id": "cba51b7cbb964e4eaad4d08a5a064292"
            }
          },
          "metadata": {}
        }
      ]
    },
    {
      "cell_type": "markdown",
      "source": [
        "# Step 4: Define the Plotting Function\n",
        "\n",
        "This function will generate a bar chart based on the selected experiments and update it dynamically."
      ],
      "metadata": {
        "id": "zWrjoNZUxcZb"
      }
    },
    {
      "cell_type": "code",
      "source": [
        "import matplotlib.pyplot as plt\n",
        "\n",
        "# Function to generate and display the plot\n",
        "def generate_plot(change=None):\n",
        "    # Filter data based on selected experiments\n",
        "    filtered_data = data[data['Experiment'].isin(experiment_select.value)]\n",
        "\n",
        "    # Count the number of unique Line_IDs for each selected Experiment and Percentage_Category\n",
        "    category_counts = filtered_data.groupby(['Experiment', 'Percentage_Category'])['Line_ID'].nunique().unstack(fill_value=0)\n",
        "\n",
        "    # Plot the categorized data with the percentage categories on the x-axis\n",
        "    fig, ax = plt.subplots(figsize=(8, 6))\n",
        "    category_counts.T.plot(kind='bar', ax=ax)  # Transpose to get categories on x-axis\n",
        "\n",
        "    # Customize the chart\n",
        "    ax.set_xlabel('Percentage Category')\n",
        "    ax.set_ylabel('Number of Lines')\n",
        "    ax.set_title(title_widget.value)\n",
        "    # Make x-axis labels parallel to the axis\n",
        "    ax.set_xticklabels(ax.get_xticklabels(), rotation=0)\n",
        "    # Use custom legend names from widgets\n",
        "    plt.legend([legend_label_1.value, legend_label_2.value], title=\"\", loc=\"upper right\")\n",
        "    plt.show()\n",
        "\n",
        "# Link widgets to the plotting function to update plot on change\n",
        "experiment_select.observe(generate_plot, names='value')\n",
        "title_widget.observe(generate_plot, names='value')\n",
        "legend_label_1.observe(generate_plot, names='value')\n",
        "legend_label_2.observe(generate_plot, names='value')\n",
        "\n"
      ],
      "metadata": {
        "id": "RTQqWup0xdXq"
      },
      "execution_count": null,
      "outputs": []
    },
    {
      "cell_type": "markdown",
      "source": [
        "# Step 5: Link Widgets to the Plotting Function\n",
        "\n",
        "Set up the widgets to trigger generate_plot whenever their values change."
      ],
      "metadata": {
        "id": "_x-46lM6xhY1"
      }
    },
    {
      "cell_type": "code",
      "source": [
        "# Set up the plot to update when the experiment selection or title changes\n",
        "experiment_select.observe(generate_plot, names='value')\n",
        "title_widget.observe(generate_plot, names='value')\n",
        "\n",
        "# Generate the initial plot\n",
        "generate_plot()\n"
      ],
      "metadata": {
        "colab": {
          "base_uri": "https://localhost:8080/",
          "height": 598
        },
        "id": "jJ2RR69sxiSY",
        "outputId": "d74c3cd7-0fa1-4ee8-ad71-cc021a9438c1"
      },
      "execution_count": null,
      "outputs": [
        {
          "output_type": "stream",
          "name": "stderr",
          "text": [
            "<ipython-input-127-56c0b0ce45a7>:9: FutureWarning: The default of observed=False is deprecated and will be changed to True in a future version of pandas. Pass observed=False to retain current behavior or observed=True to adopt the future default and silence this warning.\n",
            "  category_counts = filtered_data.groupby(['Experiment', 'Percentage_Category'])['Line_ID'].nunique().unstack(fill_value=0)\n"
          ]
        },
        {
          "output_type": "display_data",
          "data": {
            "text/plain": [
              "<Figure size 800x600 with 1 Axes>"
            ],
            "image/png": "[encoded data removed]"
          },
          "metadata": {}
        }
      ]
    },
    {
      "cell_type": "code",
      "source": [],
      "metadata": {
        "id": "KlTzmvnS-Poh"
      },
      "execution_count": null,
      "outputs": []
    }
  ]
}